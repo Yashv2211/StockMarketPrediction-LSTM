{
 "cells": [
  {
   "cell_type": "code",
   "execution_count": 1,
   "id": "expressed-toner",
   "metadata": {
    "scrolled": true
   },
   "outputs": [
    {
     "name": "stdout",
     "output_type": "stream",
     "text": [
      "Requirement already satisfied: q in /home/jcolewrld/anaconda3/lib/python3.8/site-packages (2.6)\n",
      "Requirement already satisfied: tensorflow==2.2.0 in /home/jcolewrld/anaconda3/lib/python3.8/site-packages (2.2.0)\n",
      "Requirement already satisfied: numpy<2.0,>=1.16.0 in /home/jcolewrld/anaconda3/lib/python3.8/site-packages (from tensorflow==2.2.0) (1.20.2)\n",
      "Requirement already satisfied: opt-einsum>=2.3.2 in /home/jcolewrld/anaconda3/lib/python3.8/site-packages (from tensorflow==2.2.0) (3.3.0)\n",
      "Requirement already satisfied: google-pasta>=0.1.8 in /home/jcolewrld/anaconda3/lib/python3.8/site-packages (from tensorflow==2.2.0) (0.2.0)\n",
      "Requirement already satisfied: grpcio>=1.8.6 in /home/jcolewrld/anaconda3/lib/python3.8/site-packages (from tensorflow==2.2.0) (1.37.1)\n",
      "Requirement already satisfied: astunparse==1.6.3 in /home/jcolewrld/anaconda3/lib/python3.8/site-packages (from tensorflow==2.2.0) (1.6.3)\n",
      "Requirement already satisfied: absl-py>=0.7.0 in /home/jcolewrld/anaconda3/lib/python3.8/site-packages (from tensorflow==2.2.0) (0.12.0)\n",
      "Requirement already satisfied: wrapt>=1.11.1 in /home/jcolewrld/anaconda3/lib/python3.8/site-packages (from tensorflow==2.2.0) (1.12.1)\n",
      "Collecting scipy==1.4.1\n",
      "  Using cached scipy-1.4.1-cp38-cp38-manylinux1_x86_64.whl (26.0 MB)\n",
      "Requirement already satisfied: wheel>=0.26 in /home/jcolewrld/anaconda3/lib/python3.8/site-packages (from tensorflow==2.2.0) (0.36.2)\n",
      "Requirement already satisfied: gast==0.3.3 in /home/jcolewrld/anaconda3/lib/python3.8/site-packages (from tensorflow==2.2.0) (0.3.3)\n",
      "Requirement already satisfied: h5py<2.11.0,>=2.10.0 in /home/jcolewrld/anaconda3/lib/python3.8/site-packages (from tensorflow==2.2.0) (2.10.0)\n",
      "Requirement already satisfied: tensorflow-estimator<2.3.0,>=2.2.0 in /home/jcolewrld/anaconda3/lib/python3.8/site-packages (from tensorflow==2.2.0) (2.2.0)\n",
      "Requirement already satisfied: termcolor>=1.1.0 in /home/jcolewrld/anaconda3/lib/python3.8/site-packages (from tensorflow==2.2.0) (1.1.0)\n",
      "Requirement already satisfied: keras-preprocessing>=1.1.0 in /home/jcolewrld/anaconda3/lib/python3.8/site-packages (from tensorflow==2.2.0) (1.1.2)\n",
      "Requirement already satisfied: protobuf>=3.8.0 in /home/jcolewrld/anaconda3/lib/python3.8/site-packages (from tensorflow==2.2.0) (3.15.8)\n",
      "Requirement already satisfied: six>=1.12.0 in /home/jcolewrld/anaconda3/lib/python3.8/site-packages (from tensorflow==2.2.0) (1.15.0)\n",
      "Requirement already satisfied: tensorboard<2.3.0,>=2.2.0 in /home/jcolewrld/anaconda3/lib/python3.8/site-packages (from tensorflow==2.2.0) (2.2.2)\n",
      "Requirement already satisfied: markdown>=2.6.8 in /home/jcolewrld/anaconda3/lib/python3.8/site-packages (from tensorboard<2.3.0,>=2.2.0->tensorflow==2.2.0) (3.3.4)\n",
      "Requirement already satisfied: google-auth-oauthlib<0.5,>=0.4.1 in /home/jcolewrld/anaconda3/lib/python3.8/site-packages (from tensorboard<2.3.0,>=2.2.0->tensorflow==2.2.0) (0.4.4)\n",
      "Requirement already satisfied: requests<3,>=2.21.0 in /home/jcolewrld/.local/lib/python3.8/site-packages (from tensorboard<2.3.0,>=2.2.0->tensorflow==2.2.0) (2.25.1)\n",
      "Requirement already satisfied: setuptools>=41.0.0 in /home/jcolewrld/anaconda3/lib/python3.8/site-packages (from tensorboard<2.3.0,>=2.2.0->tensorflow==2.2.0) (56.0.0)\n",
      "Requirement already satisfied: google-auth<2,>=1.6.3 in /home/jcolewrld/anaconda3/lib/python3.8/site-packages (from tensorboard<2.3.0,>=2.2.0->tensorflow==2.2.0) (1.30.0)\n",
      "Requirement already satisfied: tensorboard-plugin-wit>=1.6.0 in /home/jcolewrld/anaconda3/lib/python3.8/site-packages (from tensorboard<2.3.0,>=2.2.0->tensorflow==2.2.0) (1.8.0)\n",
      "Requirement already satisfied: werkzeug>=0.11.15 in /home/jcolewrld/anaconda3/lib/python3.8/site-packages (from tensorboard<2.3.0,>=2.2.0->tensorflow==2.2.0) (1.0.1)\n",
      "Requirement already satisfied: pyasn1-modules>=0.2.1 in /home/jcolewrld/anaconda3/lib/python3.8/site-packages (from google-auth<2,>=1.6.3->tensorboard<2.3.0,>=2.2.0->tensorflow==2.2.0) (0.2.8)\n",
      "Requirement already satisfied: rsa<5,>=3.1.4 in /home/jcolewrld/anaconda3/lib/python3.8/site-packages (from google-auth<2,>=1.6.3->tensorboard<2.3.0,>=2.2.0->tensorflow==2.2.0) (4.7.2)\n",
      "Requirement already satisfied: cachetools<5.0,>=2.0.0 in /home/jcolewrld/anaconda3/lib/python3.8/site-packages (from google-auth<2,>=1.6.3->tensorboard<2.3.0,>=2.2.0->tensorflow==2.2.0) (4.2.2)\n",
      "Requirement already satisfied: requests-oauthlib>=0.7.0 in /home/jcolewrld/anaconda3/lib/python3.8/site-packages (from google-auth-oauthlib<0.5,>=0.4.1->tensorboard<2.3.0,>=2.2.0->tensorflow==2.2.0) (1.3.0)\n",
      "Requirement already satisfied: pyasn1<0.5.0,>=0.4.6 in /home/jcolewrld/anaconda3/lib/python3.8/site-packages (from pyasn1-modules>=0.2.1->google-auth<2,>=1.6.3->tensorboard<2.3.0,>=2.2.0->tensorflow==2.2.0) (0.4.8)\n",
      "Requirement already satisfied: chardet<5,>=3.0.2 in /home/jcolewrld/anaconda3/lib/python3.8/site-packages (from requests<3,>=2.21.0->tensorboard<2.3.0,>=2.2.0->tensorflow==2.2.0) (4.0.0)\n",
      "Requirement already satisfied: urllib3<1.27,>=1.21.1 in /home/jcolewrld/anaconda3/lib/python3.8/site-packages (from requests<3,>=2.21.0->tensorboard<2.3.0,>=2.2.0->tensorflow==2.2.0) (1.26.4)\n",
      "Requirement already satisfied: idna<3,>=2.5 in /home/jcolewrld/anaconda3/lib/python3.8/site-packages (from requests<3,>=2.21.0->tensorboard<2.3.0,>=2.2.0->tensorflow==2.2.0) (2.10)\n",
      "Requirement already satisfied: certifi>=2017.4.17 in /home/jcolewrld/anaconda3/lib/python3.8/site-packages (from requests<3,>=2.21.0->tensorboard<2.3.0,>=2.2.0->tensorflow==2.2.0) (2020.12.5)\n",
      "Requirement already satisfied: oauthlib>=3.0.0 in /home/jcolewrld/anaconda3/lib/python3.8/site-packages (from requests-oauthlib>=0.7.0->google-auth-oauthlib<0.5,>=0.4.1->tensorboard<2.3.0,>=2.2.0->tensorflow==2.2.0) (3.1.0)\n",
      "Installing collected packages: scipy\n",
      "  Attempting uninstall: scipy\n",
      "    Found existing installation: scipy 1.6.2\n",
      "    Uninstalling scipy-1.6.2:\n",
      "      Successfully uninstalled scipy-1.6.2\n",
      "\u001b[31mERROR: pip's dependency resolver does not currently take into account all the packages that are installed. This behaviour is the source of the following dependency conflicts.\n",
      "dataprep 0.2.15 requires dask[array,dataframe,delayed]<3.0,>=2.25, but you have dask 2021.4.0 which is incompatible.\u001b[0m\n",
      "Successfully installed scipy-1.4.1\n",
      "Requirement already satisfied: q in /home/jcolewrld/anaconda3/lib/python3.8/site-packages (2.6)\n",
      "Requirement already satisfied: keras==2.3.1 in /home/jcolewrld/anaconda3/lib/python3.8/site-packages (2.3.1)\n",
      "Requirement already satisfied: keras-applications>=1.0.6 in /home/jcolewrld/anaconda3/lib/python3.8/site-packages (from keras==2.3.1) (1.0.8)\n",
      "Requirement already satisfied: six>=1.9.0 in /home/jcolewrld/anaconda3/lib/python3.8/site-packages (from keras==2.3.1) (1.15.0)\n",
      "Requirement already satisfied: pyyaml in /home/jcolewrld/anaconda3/lib/python3.8/site-packages (from keras==2.3.1) (5.4.1)\n",
      "Requirement already satisfied: h5py in /home/jcolewrld/anaconda3/lib/python3.8/site-packages (from keras==2.3.1) (2.10.0)\n",
      "Requirement already satisfied: keras-preprocessing>=1.0.5 in /home/jcolewrld/anaconda3/lib/python3.8/site-packages (from keras==2.3.1) (1.1.2)\n",
      "Requirement already satisfied: numpy>=1.9.1 in /home/jcolewrld/anaconda3/lib/python3.8/site-packages (from keras==2.3.1) (1.20.2)\n",
      "Requirement already satisfied: scipy>=0.14 in /home/jcolewrld/anaconda3/lib/python3.8/site-packages (from keras==2.3.1) (1.4.1)\n"
     ]
    },
    {
     "name": "stderr",
     "output_type": "stream",
     "text": [
      "Using TensorFlow backend.\n"
     ]
    }
   ],
   "source": [
    "\n",
    "\n",
    "!pip install q tensorflow==2.2.0\n",
    "!pip install q keras==2.3.1\n",
    "\n",
    "import math\n",
    "import pandas_datareader as web\n",
    "import numpy as np\n",
    "import pandas as pd \n",
    "from sklearn.preprocessing import MinMaxScaler\n",
    "from keras.models import Sequential\n",
    "from keras.layers import Dense, LSTM\n",
    "import matplotlib.pyplot as plt \n",
    "%matplotlib inline"
   ]
  },
  {
   "cell_type": "code",
   "execution_count": 2,
   "id": "electoral-bearing",
   "metadata": {},
   "outputs": [
    {
     "data": {
      "text/html": [
       "<div>\n",
       "<style scoped>\n",
       "    .dataframe tbody tr th:only-of-type {\n",
       "        vertical-align: middle;\n",
       "    }\n",
       "\n",
       "    .dataframe tbody tr th {\n",
       "        vertical-align: top;\n",
       "    }\n",
       "\n",
       "    .dataframe thead th {\n",
       "        text-align: right;\n",
       "    }\n",
       "</style>\n",
       "<table border=\"1\" class=\"dataframe\">\n",
       "  <thead>\n",
       "    <tr style=\"text-align: right;\">\n",
       "      <th></th>\n",
       "      <th>High</th>\n",
       "      <th>Low</th>\n",
       "      <th>Open</th>\n",
       "      <th>Close</th>\n",
       "      <th>Volume</th>\n",
       "      <th>Adj Close</th>\n",
       "    </tr>\n",
       "    <tr>\n",
       "      <th>Date</th>\n",
       "      <th></th>\n",
       "      <th></th>\n",
       "      <th></th>\n",
       "      <th></th>\n",
       "      <th></th>\n",
       "      <th></th>\n",
       "    </tr>\n",
       "  </thead>\n",
       "  <tbody>\n",
       "    <tr>\n",
       "      <th>2012-01-03</th>\n",
       "      <td>14.732143</td>\n",
       "      <td>14.607143</td>\n",
       "      <td>14.621429</td>\n",
       "      <td>14.686786</td>\n",
       "      <td>302220800.0</td>\n",
       "      <td>12.650659</td>\n",
       "    </tr>\n",
       "    <tr>\n",
       "      <th>2012-01-04</th>\n",
       "      <td>14.810000</td>\n",
       "      <td>14.617143</td>\n",
       "      <td>14.642857</td>\n",
       "      <td>14.765714</td>\n",
       "      <td>260022000.0</td>\n",
       "      <td>12.718646</td>\n",
       "    </tr>\n",
       "    <tr>\n",
       "      <th>2012-01-05</th>\n",
       "      <td>14.948214</td>\n",
       "      <td>14.738214</td>\n",
       "      <td>14.819643</td>\n",
       "      <td>14.929643</td>\n",
       "      <td>271269600.0</td>\n",
       "      <td>12.859850</td>\n",
       "    </tr>\n",
       "    <tr>\n",
       "      <th>2012-01-06</th>\n",
       "      <td>15.098214</td>\n",
       "      <td>14.972143</td>\n",
       "      <td>14.991786</td>\n",
       "      <td>15.085714</td>\n",
       "      <td>318292800.0</td>\n",
       "      <td>12.994284</td>\n",
       "    </tr>\n",
       "    <tr>\n",
       "      <th>2012-01-09</th>\n",
       "      <td>15.276786</td>\n",
       "      <td>15.048214</td>\n",
       "      <td>15.196429</td>\n",
       "      <td>15.061786</td>\n",
       "      <td>394024400.0</td>\n",
       "      <td>12.973674</td>\n",
       "    </tr>\n",
       "    <tr>\n",
       "      <th>...</th>\n",
       "      <td>...</td>\n",
       "      <td>...</td>\n",
       "      <td>...</td>\n",
       "      <td>...</td>\n",
       "      <td>...</td>\n",
       "      <td>...</td>\n",
       "    </tr>\n",
       "    <tr>\n",
       "      <th>2021-04-29</th>\n",
       "      <td>137.070007</td>\n",
       "      <td>132.449997</td>\n",
       "      <td>136.470001</td>\n",
       "      <td>133.479996</td>\n",
       "      <td>151101000.0</td>\n",
       "      <td>133.479996</td>\n",
       "    </tr>\n",
       "    <tr>\n",
       "      <th>2021-04-30</th>\n",
       "      <td>133.559998</td>\n",
       "      <td>131.070007</td>\n",
       "      <td>131.779999</td>\n",
       "      <td>131.460007</td>\n",
       "      <td>109713200.0</td>\n",
       "      <td>131.460007</td>\n",
       "    </tr>\n",
       "    <tr>\n",
       "      <th>2021-05-03</th>\n",
       "      <td>134.070007</td>\n",
       "      <td>131.830002</td>\n",
       "      <td>132.039993</td>\n",
       "      <td>132.539993</td>\n",
       "      <td>75135100.0</td>\n",
       "      <td>132.539993</td>\n",
       "    </tr>\n",
       "    <tr>\n",
       "      <th>2021-05-04</th>\n",
       "      <td>131.490005</td>\n",
       "      <td>126.699997</td>\n",
       "      <td>131.190002</td>\n",
       "      <td>127.849998</td>\n",
       "      <td>137564700.0</td>\n",
       "      <td>127.849998</td>\n",
       "    </tr>\n",
       "    <tr>\n",
       "      <th>2021-05-05</th>\n",
       "      <td>130.449997</td>\n",
       "      <td>127.970001</td>\n",
       "      <td>129.199997</td>\n",
       "      <td>128.100006</td>\n",
       "      <td>84000900.0</td>\n",
       "      <td>128.100006</td>\n",
       "    </tr>\n",
       "  </tbody>\n",
       "</table>\n",
       "<p>2350 rows × 6 columns</p>\n",
       "</div>"
      ],
      "text/plain": [
       "                  High         Low        Open       Close       Volume  \\\n",
       "Date                                                                      \n",
       "2012-01-03   14.732143   14.607143   14.621429   14.686786  302220800.0   \n",
       "2012-01-04   14.810000   14.617143   14.642857   14.765714  260022000.0   \n",
       "2012-01-05   14.948214   14.738214   14.819643   14.929643  271269600.0   \n",
       "2012-01-06   15.098214   14.972143   14.991786   15.085714  318292800.0   \n",
       "2012-01-09   15.276786   15.048214   15.196429   15.061786  394024400.0   \n",
       "...                ...         ...         ...         ...          ...   \n",
       "2021-04-29  137.070007  132.449997  136.470001  133.479996  151101000.0   \n",
       "2021-04-30  133.559998  131.070007  131.779999  131.460007  109713200.0   \n",
       "2021-05-03  134.070007  131.830002  132.039993  132.539993   75135100.0   \n",
       "2021-05-04  131.490005  126.699997  131.190002  127.849998  137564700.0   \n",
       "2021-05-05  130.449997  127.970001  129.199997  128.100006   84000900.0   \n",
       "\n",
       "             Adj Close  \n",
       "Date                    \n",
       "2012-01-03   12.650659  \n",
       "2012-01-04   12.718646  \n",
       "2012-01-05   12.859850  \n",
       "2012-01-06   12.994284  \n",
       "2012-01-09   12.973674  \n",
       "...                ...  \n",
       "2021-04-29  133.479996  \n",
       "2021-04-30  131.460007  \n",
       "2021-05-03  132.539993  \n",
       "2021-05-04  127.849998  \n",
       "2021-05-05  128.100006  \n",
       "\n",
       "[2350 rows x 6 columns]"
      ]
     },
     "execution_count": 2,
     "metadata": {},
     "output_type": "execute_result"
    }
   ],
   "source": [
    "df = web.DataReader('AAPL', data_source='yahoo', start='2012-01-02', end='2021-05-05')\n",
    "\n",
    "#show the data\n",
    "\n",
    "df"
   ]
  },
  {
   "cell_type": "code",
   "execution_count": 3,
   "id": "fabulous-hazard",
   "metadata": {},
   "outputs": [
    {
     "data": {
      "text/plain": [
       "(2350, 6)"
      ]
     },
     "execution_count": 3,
     "metadata": {},
     "output_type": "execute_result"
    }
   ],
   "source": [
    "#get the no of row and columns in the data set\n",
    "df.shape"
   ]
  },
  {
   "cell_type": "code",
   "execution_count": 4,
   "id": "practical-convert",
   "metadata": {},
   "outputs": [
    {
     "data": {
      "image/png": "[encoded data removed]",
      "text/plain": [
       "<Figure size 1152x576 with 1 Axes>"
      ]
     },
     "metadata": {
      "needs_background": "light"
     },
     "output_type": "display_data"
    }
   ],
   "source": [
    "#visualize the closing price history\n",
    "plt.figure(figsize=(16,8))\n",
    "plt.title('Close Price History')\n",
    "plt.plot(df['Close'])\n",
    "plt.xlabel('Date', fontsize =  18)\n",
    "plt.ylabel('Close Price USD ($)', fontsize= 18)\n",
    "plt.show()"
   ]
  },
  {
   "cell_type": "code",
   "execution_count": 5,
   "id": "color-terror",
   "metadata": {},
   "outputs": [
    {
     "data": {
      "text/plain": [
       "1880"
      ]
     },
     "execution_count": 5,
     "metadata": {},
     "output_type": "execute_result"
    }
   ],
   "source": [
    "#Create new df with only close column\n",
    "data = df.filter(['Close'])\n",
    "\n",
    "#convert df to np array\n",
    "dataset = data.values\n",
    "\n",
    "#get the no of rows to train the model on\n",
    "training_data_len = math.ceil( len(dataset) * .8)\n",
    "\n",
    "training_data_len"
   ]
  },
  {
   "cell_type": "code",
   "execution_count": 6,
   "id": "twelve-deputy",
   "metadata": {},
   "outputs": [
    {
     "data": {
      "text/plain": [
       "array([[0.00572147],\n",
       "       [0.00633231],\n",
       "       [0.00760099],\n",
       "       ...,\n",
       "       [0.91780973],\n",
       "       [0.88151297],\n",
       "       [0.88344783]])"
      ]
     },
     "execution_count": 6,
     "metadata": {},
     "output_type": "execute_result"
    }
   ],
   "source": [
    "#scale the data\n",
    "scaler = MinMaxScaler(feature_range=(0,1))\n",
    "scaled_data = scaler.fit_transform(dataset)\n",
    "\n",
    "scaled_data"
   ]
  },
  {
   "cell_type": "code",
   "execution_count": 7,
   "id": "illegal-product",
   "metadata": {},
   "outputs": [
    {
     "name": "stdout",
     "output_type": "stream",
     "text": [
      "[array([0.00572147, 0.00633231, 0.00760099, 0.00880885, 0.00862367,\n",
      "       0.00904103, 0.00885031, 0.00852969, 0.00809297, 0.00944457,\n",
      "       0.0106635 , 0.01028759, 0.00822841, 0.01019361, 0.00825882,\n",
      "       0.01551431, 0.01495322, 0.01568568, 0.01726944, 0.01822855,\n",
      "       0.01814839, 0.01785265, 0.01911303, 0.02029878, 0.02164209,\n",
      "       0.02381183, 0.02836966, 0.02843875, 0.03097611, 0.0328722 ,\n",
      "       0.02961346, 0.03086831, 0.03084343, 0.034362  , 0.03386171,\n",
      "       0.03478765, 0.03645157, 0.03737752, 0.04004478, 0.04198786,\n",
      "       0.04254895, 0.0427452 , 0.03942288, 0.03862131, 0.03874017,\n",
      "       0.04186349, 0.04274244, 0.04463025, 0.04908028, 0.05501734,\n",
      "       0.05390621, 0.05390897, 0.05820147, 0.05954478, 0.05858842,\n",
      "       0.05771501, 0.05680565, 0.05982669, 0.0618997 , 0.06276759])]\n",
      "[0.06062272301844436]\n",
      "\n",
      "[array([0.00572147, 0.00633231, 0.00760099, 0.00880885, 0.00862367,\n",
      "       0.00904103, 0.00885031, 0.00852969, 0.00809297, 0.00944457,\n",
      "       0.0106635 , 0.01028759, 0.00822841, 0.01019361, 0.00825882,\n",
      "       0.01551431, 0.01495322, 0.01568568, 0.01726944, 0.01822855,\n",
      "       0.01814839, 0.01785265, 0.01911303, 0.02029878, 0.02164209,\n",
      "       0.02381183, 0.02836966, 0.02843875, 0.03097611, 0.0328722 ,\n",
      "       0.02961346, 0.03086831, 0.03084343, 0.034362  , 0.03386171,\n",
      "       0.03478765, 0.03645157, 0.03737752, 0.04004478, 0.04198786,\n",
      "       0.04254895, 0.0427452 , 0.03942288, 0.03862131, 0.03874017,\n",
      "       0.04186349, 0.04274244, 0.04463025, 0.04908028, 0.05501734,\n",
      "       0.05390621, 0.05390897, 0.05820147, 0.05954478, 0.05858842,\n",
      "       0.05771501, 0.05680565, 0.05982669, 0.0618997 , 0.06276759]), array([0.00633231, 0.00760099, 0.00880885, 0.00862367, 0.00904103,\n",
      "       0.00885031, 0.00852969, 0.00809297, 0.00944457, 0.0106635 ,\n",
      "       0.01028759, 0.00822841, 0.01019361, 0.00825882, 0.01551431,\n",
      "       0.01495322, 0.01568568, 0.01726944, 0.01822855, 0.01814839,\n",
      "       0.01785265, 0.01911303, 0.02029878, 0.02164209, 0.02381183,\n",
      "       0.02836966, 0.02843875, 0.03097611, 0.0328722 , 0.02961346,\n",
      "       0.03086831, 0.03084343, 0.034362  , 0.03386171, 0.03478765,\n",
      "       0.03645157, 0.03737752, 0.04004478, 0.04198786, 0.04254895,\n",
      "       0.0427452 , 0.03942288, 0.03862131, 0.03874017, 0.04186349,\n",
      "       0.04274244, 0.04463025, 0.04908028, 0.05501734, 0.05390621,\n",
      "       0.05390897, 0.05820147, 0.05954478, 0.05858842, 0.05771501,\n",
      "       0.05680565, 0.05982669, 0.0618997 , 0.06276759, 0.06062272])]\n",
      "[0.06062272301844436, 0.05777304791904707]\n",
      "\n"
     ]
    }
   ],
   "source": [
    "#Create the training dataset\n",
    "#Create the scaled training data set\n",
    "\n",
    "train_data = scaled_data[0:training_data_len,:]\n",
    "\n",
    "#Split the data into x_train and y_train data sets\n",
    "\n",
    "x_train = []\n",
    "y_train = []\n",
    "\n",
    "for i in range(60, len(train_data)):\n",
    "    x_train.append(train_data[i-60:i, 0])\n",
    "    y_train.append(train_data[i,0])\n",
    "    if i<=61:\n",
    "        print(x_train)\n",
    "        print(y_train)\n",
    "        print()\n",
    "\n"
   ]
  },
  {
   "cell_type": "code",
   "execution_count": 8,
   "id": "closed-benchmark",
   "metadata": {},
   "outputs": [],
   "source": [
    "# conver x_train and y_train to np array\n",
    "x_train, y_train = np.array(x_train), np.array(y_train)"
   ]
  },
  {
   "cell_type": "code",
   "execution_count": 9,
   "id": "amateur-shame",
   "metadata": {},
   "outputs": [
    {
     "data": {
      "text/plain": [
       "(1820, 60, 1)"
      ]
     },
     "execution_count": 9,
     "metadata": {},
     "output_type": "execute_result"
    }
   ],
   "source": [
    "#Reshape the data\n",
    "x_train = np.reshape(x_train, (x_train.shape[0], x_train.shape[1], 1))\n",
    "x_train.shape"
   ]
  },
  {
   "cell_type": "code",
   "execution_count": 10,
   "id": "accredited-vehicle",
   "metadata": {},
   "outputs": [],
   "source": [
    "#Build the LSTM model\n",
    "model = Sequential()\n",
    "model.add(LSTM(50 , return_sequences= True, input_shape=(x_train.shape[1],1)))\n",
    "model.add(LSTM(50 , return_sequences= False))\n",
    "model.add(Dense(25))\n",
    "model.add(Dense(1))          \n",
    "          "
   ]
  },
  {
   "cell_type": "code",
   "execution_count": 11,
   "id": "monthly-washington",
   "metadata": {},
   "outputs": [],
   "source": [
    "#Compile the model\n",
    "model.compile(optimizer='adam', loss='mean_squared_error')"
   ]
  },
  {
   "cell_type": "code",
   "execution_count": 12,
   "id": "stupid-commitment",
   "metadata": {},
   "outputs": [
    {
     "name": "stdout",
     "output_type": "stream",
     "text": [
      "Epoch 1/1\n",
      "1820/1820 [==============================] - 37s 21ms/step - loss: 2.0831e-04\n"
     ]
    },
    {
     "data": {
      "text/plain": [
       "<keras.callbacks.callbacks.History at 0x7f7f34057f40>"
      ]
     },
     "execution_count": 12,
     "metadata": {},
     "output_type": "execute_result"
    }
   ],
   "source": [
    "model.fit(x_train,y_train, batch_size=1, epochs=1)"
   ]
  },
  {
   "cell_type": "code",
   "execution_count": 13,
   "id": "satisfactory-failure",
   "metadata": {},
   "outputs": [],
   "source": [
    "#create the testing dataset\n",
    "#create a new array containing scaled values from index 1619 to 2097\n",
    "test_data = scaled_data[training_data_len-60 : , :]\n",
    "\n",
    "#Create the data sets x_texts and y_test\n",
    "x_test = []\n",
    "y_test= dataset[training_data_len:,:]\n",
    "for i in range(60, len(test_data)):\n",
    "    x_test.append(test_data[i-60:i, 0])\n",
    "    "
   ]
  },
  {
   "cell_type": "code",
   "execution_count": 14,
   "id": "infectious-eclipse",
   "metadata": {},
   "outputs": [],
   "source": [
    "#convert the data to np array\n",
    "x_test = np.array(x_test)\n"
   ]
  },
  {
   "cell_type": "code",
   "execution_count": 15,
   "id": "cheap-screen",
   "metadata": {},
   "outputs": [],
   "source": [
    "x_test = np.reshape(x_test, (x_test.shape[0], x_test.shape[1], 1))"
   ]
  },
  {
   "cell_type": "code",
   "execution_count": 16,
   "id": "amazing-history",
   "metadata": {},
   "outputs": [
    {
     "data": {
      "text/plain": [
       "(470, 60, 1)"
      ]
     },
     "execution_count": 16,
     "metadata": {},
     "output_type": "execute_result"
    }
   ],
   "source": [
    "x_test.shape"
   ]
  },
  {
   "cell_type": "code",
   "execution_count": 17,
   "id": "controlled-disorder",
   "metadata": {},
   "outputs": [],
   "source": [
    "#get the model of predicted prices values\n",
    "predcitions = model.predict(x_test)\n",
    "predcitions = scaler.inverse_transform(predcitions)\n"
   ]
  },
  {
   "cell_type": "code",
   "execution_count": 18,
   "id": "coated-vessel",
   "metadata": {},
   "outputs": [
    {
     "data": {
      "text/plain": [
       "6.148532201888713"
      ]
     },
     "execution_count": 18,
     "metadata": {},
     "output_type": "execute_result"
    }
   ],
   "source": [
    "#Get the root mean squared error (RMSE)\n",
    "rmse = np.sqrt(np.mean(predcitions - y_test)**2)\n",
    "rmse"
   ]
  },
  {
   "cell_type": "code",
   "execution_count": 19,
   "id": "stuffed-precipitation",
   "metadata": {},
   "outputs": [
    {
     "name": "stderr",
     "output_type": "stream",
     "text": [
      "<ipython-input-19-c2d16cb04712>:4: SettingWithCopyWarning: \n",
      "A value is trying to be set on a copy of a slice from a DataFrame.\n",
      "Try using .loc[row_indexer,col_indexer] = value instead\n",
      "\n",
      "See the caveats in the documentation: https://pandas.pydata.org/pandas-docs/stable/user_guide/indexing.html#returning-a-view-versus-a-copy\n",
      "  valid['Predictions'] = predcitions\n"
     ]
    },
    {
     "data": {
      "text/html": [
       "<div>\n",
       "<style scoped>\n",
       "    .dataframe tbody tr th:only-of-type {\n",
       "        vertical-align: middle;\n",
       "    }\n",
       "\n",
       "    .dataframe tbody tr th {\n",
       "        vertical-align: top;\n",
       "    }\n",
       "\n",
       "    .dataframe thead th {\n",
       "        text-align: right;\n",
       "    }\n",
       "</style>\n",
       "<table border=\"1\" class=\"dataframe\">\n",
       "  <thead>\n",
       "    <tr style=\"text-align: right;\">\n",
       "      <th></th>\n",
       "      <th>Close</th>\n",
       "      <th>Predictions</th>\n",
       "    </tr>\n",
       "    <tr>\n",
       "      <th>Date</th>\n",
       "      <th></th>\n",
       "      <th></th>\n",
       "    </tr>\n",
       "  </thead>\n",
       "  <tbody>\n",
       "    <tr>\n",
       "      <th>2019-06-25</th>\n",
       "      <td>48.892502</td>\n",
       "      <td>47.766205</td>\n",
       "    </tr>\n",
       "    <tr>\n",
       "      <th>2019-06-26</th>\n",
       "      <td>49.950001</td>\n",
       "      <td>47.722797</td>\n",
       "    </tr>\n",
       "    <tr>\n",
       "      <th>2019-06-27</th>\n",
       "      <td>49.935001</td>\n",
       "      <td>47.740955</td>\n",
       "    </tr>\n",
       "    <tr>\n",
       "      <th>2019-06-28</th>\n",
       "      <td>49.480000</td>\n",
       "      <td>47.786667</td>\n",
       "    </tr>\n",
       "    <tr>\n",
       "      <th>2019-07-01</th>\n",
       "      <td>50.387501</td>\n",
       "      <td>47.782120</td>\n",
       "    </tr>\n",
       "    <tr>\n",
       "      <th>...</th>\n",
       "      <td>...</td>\n",
       "      <td>...</td>\n",
       "    </tr>\n",
       "    <tr>\n",
       "      <th>2021-04-29</th>\n",
       "      <td>133.479996</td>\n",
       "      <td>122.890739</td>\n",
       "    </tr>\n",
       "    <tr>\n",
       "      <th>2021-04-30</th>\n",
       "      <td>131.460007</td>\n",
       "      <td>122.801483</td>\n",
       "    </tr>\n",
       "    <tr>\n",
       "      <th>2021-05-03</th>\n",
       "      <td>132.539993</td>\n",
       "      <td>122.403732</td>\n",
       "    </tr>\n",
       "    <tr>\n",
       "      <th>2021-05-04</th>\n",
       "      <td>127.849998</td>\n",
       "      <td>122.083992</td>\n",
       "    </tr>\n",
       "    <tr>\n",
       "      <th>2021-05-05</th>\n",
       "      <td>128.100006</td>\n",
       "      <td>121.154449</td>\n",
       "    </tr>\n",
       "  </tbody>\n",
       "</table>\n",
       "<p>470 rows × 2 columns</p>\n",
       "</div>"
      ],
      "text/plain": [
       "                 Close  Predictions\n",
       "Date                               \n",
       "2019-06-25   48.892502    47.766205\n",
       "2019-06-26   49.950001    47.722797\n",
       "2019-06-27   49.935001    47.740955\n",
       "2019-06-28   49.480000    47.786667\n",
       "2019-07-01   50.387501    47.782120\n",
       "...                ...          ...\n",
       "2021-04-29  133.479996   122.890739\n",
       "2021-04-30  131.460007   122.801483\n",
       "2021-05-03  132.539993   122.403732\n",
       "2021-05-04  127.849998   122.083992\n",
       "2021-05-05  128.100006   121.154449\n",
       "\n",
       "[470 rows x 2 columns]"
      ]
     },
     "execution_count": 19,
     "metadata": {},
     "output_type": "execute_result"
    }
   ],
   "source": [
    "#predicted value\n",
    "train = data[:training_data_len]\n",
    "valid = data[training_data_len:]\n",
    "valid['Predictions'] = predcitions\n",
    "\n",
    "valid"
   ]
  },
  {
   "cell_type": "code",
   "execution_count": 20,
   "id": "mighty-party",
   "metadata": {
    "scrolled": false
   },
   "outputs": [
    {
     "data": {
      "image/png": "[encoded data removed]",
      "text/plain": [
       "<Figure size 1152x576 with 1 Axes>"
      ]
     },
     "metadata": {
      "needs_background": "light"
     },
     "output_type": "display_data"
    }
   ],
   "source": [
    "#visualize the data\n",
    "plt.figure(figsize=(16,8))\n",
    "plt.title('Model')\n",
    "plt.xlabel('Date', fontsize=18)\n",
    "plt.ylabel('Close Price USD ($)', fontsize=18)\n",
    "plt.plot(train['Close'])\n",
    "plt.plot(valid[['Close','Predictions']])\n",
    "plt.legend(['Train','Val','Predictions'], loc='lower right')\n",
    "plt.show()"
   ]
  }
 ],
 "metadata": {
  "kernelspec": {
   "display_name": "Python 3",
   "language": "python",
   "name": "python3"
  },
  "language_info": {
   "codemirror_mode": {
    "name": "ipython",
    "version": 3
   },
   "file_extension": ".py",
   "mimetype": "text/x-python",
   "name": "python",
   "nbconvert_exporter": "python",
   "pygments_lexer": "ipython3",
   "version": "3.8.8"
  }
 },
 "nbformat": 4,
 "nbformat_minor": 5
}
